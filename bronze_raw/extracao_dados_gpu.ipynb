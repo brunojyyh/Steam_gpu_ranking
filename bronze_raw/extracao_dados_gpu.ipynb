{
 "cells": [
  {
   "cell_type": "code",
   "execution_count": null,
   "metadata": {},
   "outputs": [],
   "source": [
    "import requests\n",
    "import pandas as pd\n",
    "import json\n",
    "import time\n",
    "import pyodbc \n",
    "import urllib\n",
    "import sqlalchemy\n",
    "import os\n",
    "import bs4\n",
    "import html5lib"
   ]
  },
  {
   "cell_type": "code",
   "execution_count": null,
   "metadata": {},
   "outputs": [],
   "source": [
    "## Faz o download do conteúdo da página parte 1\n",
    "url = \"https://store.steampowered.com/hwsurvey/videocard/\"\n",
    "response = requests.get(url)\n",
    "content = response.content\n",
    "\n",
    "# Cria um objeto BeautifulSoup para analisar o conteúdo HTML\n",
    "soup = bs4.BeautifulSoup(content, \"html.parser\")\n",
    "\n",
    "data_list1 = []\n",
    "for i in range(0,2,1) :\n",
    "# Encontra todas as divs com a classe \"substats_row row_0\"\n",
    "    divs = soup.find_all(\"div\", class_=f\"substats_row row_0\")\n",
    "\n",
    "    # Extrai os dados de cada div\n",
    "    for div in divs:\n",
    "        data = div.get_text(separator='|', strip=True)\n",
    "        data_list1.append(data)\n",
    "\n",
    "\n",
    "## Faz o download do conteúdo da página parte 2\n",
    "url = \"https://store.steampowered.com/hwsurvey/videocard/\"\n",
    "response = requests.get(url)\n",
    "content = response.content\n",
    "\n",
    "# Cria um objeto BeautifulSoup para analisar o conteúdo HTML\n",
    "soup = bs4.BeautifulSoup(content, \"html.parser\")\n",
    "\n",
    "data_list2 = []\n",
    "for i in range(0,2,1) :\n",
    "# Encontra todas as divs com a classe \"substats_row row_0\"\n",
    "    divs = soup.find_all(\"div\", class_=f\"substats_row row_1\")\n",
    "\n",
    "    # Extrai os dados de cada div\n",
    "    for div in divs:\n",
    "        data = div.get_text(separator='|', strip=True)\n",
    "        data_list2.append(data)\n"
   ]
  }
 ],
 "metadata": {
  "kernelspec": {
   "display_name": ".venv",
   "language": "python",
   "name": "python3"
  },
  "language_info": {
   "name": "python",
   "version": "3.11.5"
  },
  "orig_nbformat": 4
 },
 "nbformat": 4,
 "nbformat_minor": 2
}
